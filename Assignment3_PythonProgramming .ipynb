{
 "cells": [
  {
   "cell_type": "markdown",
   "id": "5b05f860",
   "metadata": {},
   "source": [
    "# Task 3          \n",
    "## Name : Jhanavi Behl"
   ]
  },
  {
   "cell_type": "markdown",
   "id": "118900d7",
   "metadata": {},
   "source": [
    "Question 1"
   ]
  },
  {
   "cell_type": "code",
   "execution_count": 1,
   "id": "03efe0cc",
   "metadata": {},
   "outputs": [],
   "source": [
    "def Fibonacci(n):\n",
    "    if n<= 0:\n",
    "        print(\"Incorrect input\")\n",
    "    elif n == 1:\n",
    "        return 1\n",
    "    elif n == 2:\n",
    "        return 1\n",
    "    else:\n",
    "        return Fibonacci(n-1)+Fibonacci(n-2)"
   ]
  },
  {
   "cell_type": "code",
   "execution_count": 14,
   "id": "0ab3ba67",
   "metadata": {},
   "outputs": [
    {
     "data": {
      "text/plain": [
       "8"
      ]
     },
     "execution_count": 14,
     "metadata": {},
     "output_type": "execute_result"
    }
   ],
   "source": [
    "Fibonacci(6)"
   ]
  },
  {
   "cell_type": "markdown",
   "id": "a2be90cd",
   "metadata": {},
   "source": [
    "Question 2"
   ]
  },
  {
   "cell_type": "code",
   "execution_count": null,
   "id": "ec121df5",
   "metadata": {},
   "outputs": [],
   "source": [
    "def gcd(n1, n2) :\n",
    "    if n2 == 0 :\n",
    "        return n1\n",
    "    else :\n",
    "        return gcd(n2, n1 % n2)\n",
    "    \n",
    "inp1 = int(input(\"Enter first Number : \"))\n",
    "inp2 = int(input(\"Enter second Number : \"))\n",
    "print(\"GCD of\" , inp1 ,\"and\", inp2 ,\"is\" ,  gcd(inp1, inp2))"
   ]
  },
  {
   "cell_type": "markdown",
   "id": "68cd5659",
   "metadata": {},
   "source": [
    "Question 3"
   ]
  },
  {
   "cell_type": "code",
   "execution_count": null,
   "id": "a9943c97",
   "metadata": {},
   "outputs": [],
   "source": [
    "def lcm(a,b):\n",
    "     return (a / gcd(a, b)) * b;"
   ]
  },
  {
   "cell_type": "code",
   "execution_count": null,
   "id": "95216035",
   "metadata": {},
   "outputs": [],
   "source": [
    "lcm(7,5)"
   ]
  }
 ],
 "metadata": {
  "kernelspec": {
   "display_name": "Python 3",
   "language": "python",
   "name": "python3"
  },
  "language_info": {
   "codemirror_mode": {
    "name": "ipython",
    "version": 3
   },
   "file_extension": ".py",
   "mimetype": "text/x-python",
   "name": "python",
   "nbconvert_exporter": "python",
   "pygments_lexer": "ipython3",
   "version": "3.8.8"
  }
 },
 "nbformat": 4,
 "nbformat_minor": 5
}
