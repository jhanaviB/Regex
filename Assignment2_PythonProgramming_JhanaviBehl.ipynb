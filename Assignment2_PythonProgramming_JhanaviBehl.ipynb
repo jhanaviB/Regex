{
 "cells": [
  {
   "cell_type": "markdown",
   "id": "3216d3dc",
   "metadata": {},
   "source": [
    "TASK 2\n"
   ]
  },
  {
   "cell_type": "markdown",
   "id": "69dedc25",
   "metadata": {},
   "source": [
    "Name: Jhanavi Behl  "
   ]
  },
  {
   "cell_type": "markdown",
   "id": "0b4c1a97",
   "metadata": {},
   "source": [
    "Question 1"
   ]
  },
  {
   "cell_type": "code",
   "execution_count": 1,
   "id": "0f977a5a",
   "metadata": {},
   "outputs": [
    {
     "data": {
      "text/plain": [
       "'Hello'"
      ]
     },
     "execution_count": 1,
     "metadata": {},
     "output_type": "execute_result"
    }
   ],
   "source": [
    "import re\n",
    "a = lambda string: re.split('[ !,.?]',string)[0]\n",
    "a(\"Hello! How have you been\")"
   ]
  },
  {
   "cell_type": "markdown",
   "id": "c794748f",
   "metadata": {},
   "source": [
    "Question 2"
   ]
  },
  {
   "cell_type": "code",
   "execution_count": 2,
   "id": "8604c42e",
   "metadata": {},
   "outputs": [
    {
     "data": {
      "text/plain": [
       "'Hello'"
      ]
     },
     "execution_count": 2,
     "metadata": {},
     "output_type": "execute_result"
    }
   ],
   "source": [
    "def extract(s):\n",
    "    return(s.split()[0])\n",
    "a = extract(\"Hello how have you been\")\n",
    "a"
   ]
  },
  {
   "cell_type": "markdown",
   "id": "f70600e4",
   "metadata": {},
   "source": [
    "Question 3"
   ]
  },
  {
   "cell_type": "code",
   "execution_count": 3,
   "id": "c86ebea7",
   "metadata": {},
   "outputs": [
    {
     "data": {
      "text/plain": [
       "['What', 'Kya', 'Kuch', 'Lonavala']"
      ]
     },
     "execution_count": 3,
     "metadata": {},
     "output_type": "execute_result"
    }
   ],
   "source": [
    "l = ['What is this man',\n",
    "    'Kya hai yeh',\n",
    "    'Kuch toh gadbad hai',\n",
    "     'Lonavala mein hua kya tha']\n",
    "list(map(extract,l))"
   ]
  },
  {
   "cell_type": "markdown",
   "id": "fdf1a222",
   "metadata": {},
   "source": [
    "Question 4"
   ]
  },
  {
   "cell_type": "code",
   "execution_count": 26,
   "id": "945811b6",
   "metadata": {},
   "outputs": [],
   "source": [
    "def prime(n):\n",
    "    for i in range(2,int(n**2)+1):\n",
    "        if n%i ==0:\n",
    "            return False\n",
    "        else:\n",
    "            return True\n",
    "def primefactors(n):\n",
    "    i = 2\n",
    "    primefact=[]\n",
    "    while n > 1:\n",
    "        if n % i == 0 and prime(i):\n",
    "            primefact.append(i)\n",
    "            n = n//i\n",
    "        else:\n",
    "            i+=1\n",
    "    return primefact\n"
   ]
  },
  {
   "cell_type": "code",
   "execution_count": 27,
   "id": "2482c51d",
   "metadata": {},
   "outputs": [
    {
     "data": {
      "text/plain": [
       "[3, 3, 11]"
      ]
     },
     "execution_count": 27,
     "metadata": {},
     "output_type": "execute_result"
    }
   ],
   "source": [
    "primefactors(99)"
   ]
  },
  {
   "cell_type": "markdown",
   "id": "bfd5fc5c",
   "metadata": {},
   "source": [
    "Question 5"
   ]
  },
  {
   "cell_type": "code",
   "execution_count": 4,
   "id": "5185a892",
   "metadata": {},
   "outputs": [
    {
     "name": "stdout",
     "output_type": "stream",
     "text": [
      "Enter first number: 4\n",
      "Enter second number: 7\n",
      "Enter third number: 11\n",
      "Enter fourth number: 0\n"
     ]
    }
   ],
   "source": [
    "a = int(input(\"Enter first number: \"))\n",
    "b = int(input(\"Enter second number: \"))\n",
    "c = int(input(\"Enter third number: \"))\n",
    "d = int(input(\"Enter fourth number: \"))\n",
    "l = [a,b,c,d]\n"
   ]
  },
  {
   "cell_type": "code",
   "execution_count": 7,
   "id": "d2e5e4bd",
   "metadata": {},
   "outputs": [
    {
     "data": {
      "text/plain": [
       "4"
      ]
     },
     "execution_count": 7,
     "metadata": {},
     "output_type": "execute_result"
    }
   ],
   "source": [
    "def second_largest(l):\n",
    "    temp = 0\n",
    "    for i in range(0,len(l)):\n",
    "        for j in range(i+1,len(l)):\n",
    "            if (l[i]>l[j]):\n",
    "                temp = l[i]\n",
    "                l[i]=l[j]\n",
    "                l[j]=temp\n",
    "        return l[len(l)-2]\n",
    "second_largest(l)\n"
   ]
  },
  {
   "cell_type": "code",
   "execution_count": null,
   "id": "49b5c97b",
   "metadata": {},
   "outputs": [],
   "source": []
  }
 ],
 "metadata": {
  "kernelspec": {
   "display_name": "Python 3",
   "language": "python",
   "name": "python3"
  },
  "language_info": {
   "codemirror_mode": {
    "name": "ipython",
    "version": 3
   },
   "file_extension": ".py",
   "mimetype": "text/x-python",
   "name": "python",
   "nbconvert_exporter": "python",
   "pygments_lexer": "ipython3",
   "version": "3.8.8"
  }
 },
 "nbformat": 4,
 "nbformat_minor": 5
}
